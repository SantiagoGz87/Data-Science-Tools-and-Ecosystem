{
  "metadata": {
    "kernelspec": {
      "name": "python",
      "display_name": "Pyolite",
      "language": "python"
    },
    "language_info": {
      "codemirror_mode": {
        "name": "python",
        "version": 3
      },
      "file_extension": ".py",
      "mimetype": "text/x-python",
      "name": "python",
      "nbconvert_exporter": "python",
      "pygments_lexer": "ipython3",
      "version": "3.8"
    }
  },
  "nbformat_minor": 4,
  "nbformat": 4,
  "cells": [
    {
      "cell_type": "markdown",
      "source": "<center>\n    <img src=\"https://cf-courses-data.s3.us.cloud-object-storage.appdomain.cloud/IBMDeveloperSkillsNetwork-DS0105EN-SkillsNetwork/labs/Module2/images/SN_web_lightmode.png\" width=\"300\" alt=\"cognitiveclass.ai logo\">\n</center>\n",
      "metadata": {}
    },
    {
      "cell_type": "markdown",
      "source": "#### Add your code below following the instructions given in the course\n",
      "metadata": {}
    },
    {
      "cell_type": "markdown",
      "source": "# Data Science Tools and Ecosystem",
      "metadata": {}
    },
    {
      "cell_type": "markdown",
      "source": "In this notebook, Data Science Tools and Ecosystem are summarized.",
      "metadata": {}
    },
    {
      "cell_type": "markdown",
      "source": "**Objetivos:**\n\n- Enumerar algunos de los lenguajes más populares para la ciencia de datos.\n- Presentar algunas de las bibliotecas y herramientas utilizadas comúnmente en la ciencia de datos.\n- Introducir algunos conceptos básicos de expresiones aritméticas en Python.\n- Demostrar cómo convertir minutos en horas utilizando Python.\n- Proporcionar una visión general de los entornos de desarrollo de código abierto utilizados en la ciencia de datos.\n",
      "metadata": {}
    },
    {
      "cell_type": "markdown",
      "source": "En esta celda, se presentará una lista de algunos de los lenguajes de programación más comúnmente utilizados en la ciencia de datos:\n\n- Python\n- R\n- SQL\n- Java\n- Julia\n- MATLAB\n- Scala\n",
      "metadata": {}
    },
    {
      "cell_type": "markdown",
      "source": "En esta celda, se presentará una lista de algunas de las bibliotecas de programación más comúnmente utilizadas en la ciencia de datos:\n\n- NumPy\n- Pandas\n- Matplotlib\n- Seaborn\n- Scikit-learn\n- TensorFlow\n- Keras\n- PyTorch\n- NLTK",
      "metadata": {}
    },
    {
      "cell_type": "markdown",
      "source": "| Data Science Tools |\n| --- |\n| Jupyter Notebook |\n| RStudio |\n| Spyder |\n",
      "metadata": {}
    },
    {
      "cell_type": "markdown",
      "source": "### En esta celda, se presentarán algunos ejemplos de expresiones aritméticas en Python:\n\n- `2 + 3`: esta expresión suma los números 2 y 3, y devuelve el resultado 5.\n- `5 - 2`: esta expresión resta 2 del número 5, y devuelve el resultado 3.\n- `3 * 4`: esta expresión multiplica los números 3 y 4, y devuelve el resultado 12.\n- `10 / 5`: esta expresión divide el número 10 por 5, y devuelve el resultado 2.0.\n- `2 ** 3`: esta expresión eleva el número 2 a la tercera potencia, y devuelve el resultado 8.",
      "metadata": {}
    },
    {
      "cell_type": "code",
      "source": "# Esta es una expresión aritmética simple para multiplicar y luego sumar enteros.\n(3*4)+5",
      "metadata": {
        "trusted": true
      },
      "execution_count": 12,
      "outputs": [
        {
          "execution_count": 12,
          "output_type": "execute_result",
          "data": {
            "text/plain": "17"
          },
          "metadata": {}
        }
      ]
    },
    {
      "cell_type": "code",
      "source": "# Esta operación convierte 200 minutos en horas dividiendo por 60.\n200 / 60",
      "metadata": {
        "trusted": true
      },
      "execution_count": 13,
      "outputs": [
        {
          "execution_count": 13,
          "output_type": "execute_result",
          "data": {
            "text/plain": "3.3333333333333335"
          },
          "metadata": {}
        }
      ]
    },
    {
      "cell_type": "markdown",
      "source": "## Autor\n\nSantiago Agustín Gutiérrez\n",
      "metadata": {}
    }
  ]
}